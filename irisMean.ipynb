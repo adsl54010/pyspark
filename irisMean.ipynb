{
 "cells": [
  {
   "cell_type": "code",
   "execution_count": 12,
   "id": "4b3462e6-0caa-422a-8ecb-d2e650468044",
   "metadata": {},
   "outputs": [],
   "source": [
    "from pyspark.sql import SparkSession\n",
    "\n",
    "spark = SparkSession \\\n",
    ".builder\\\n",
    ".appName(\"PythonSQL\")\\\n",
    ".config(\"spark.some.config.option\",\"some-value\")\\\n",
    ".getOrCreate()"
   ]
  },
  {
   "cell_type": "code",
   "execution_count": 18,
   "id": "148b0fb0-6e78-4793-ac8f-b755f1a6133c",
   "metadata": {},
   "outputs": [
    {
     "name": "stdout",
     "output_type": "stream",
     "text": [
      "+------------+-----------+------------+-----------+-------+\n",
      "|sepal.length|sepal.width|petal.length|petal.width|variety|\n",
      "+------------+-----------+------------+-----------+-------+\n",
      "|         5.1|        3.5|         1.4|         .2| Setosa|\n",
      "|         4.9|          3|         1.4|         .2| Setosa|\n",
      "|         4.7|        3.2|         1.3|         .2| Setosa|\n",
      "|         4.6|        3.1|         1.5|         .2| Setosa|\n",
      "|           5|        3.6|         1.4|         .2| Setosa|\n",
      "|         5.4|        3.9|         1.7|         .4| Setosa|\n",
      "|         4.6|        3.4|         1.4|         .3| Setosa|\n",
      "|           5|        3.4|         1.5|         .2| Setosa|\n",
      "|         4.4|        2.9|         1.4|         .2| Setosa|\n",
      "|         4.9|        3.1|         1.5|         .1| Setosa|\n",
      "|         5.4|        3.7|         1.5|         .2| Setosa|\n",
      "|         4.8|        3.4|         1.6|         .2| Setosa|\n",
      "|         4.8|          3|         1.4|         .1| Setosa|\n",
      "|         4.3|          3|         1.1|         .1| Setosa|\n",
      "|         5.8|          4|         1.2|         .2| Setosa|\n",
      "|         5.7|        4.4|         1.5|         .4| Setosa|\n",
      "|         5.4|        3.9|         1.3|         .4| Setosa|\n",
      "|         5.1|        3.5|         1.4|         .3| Setosa|\n",
      "|         5.7|        3.8|         1.7|         .3| Setosa|\n",
      "|         5.1|        3.8|         1.5|         .3| Setosa|\n",
      "+------------+-----------+------------+-----------+-------+\n",
      "only showing top 20 rows\n",
      "\n"
     ]
    }
   ],
   "source": [
    "\n",
    "df = spark.read.option(\"header\",True) \\\n",
    ".csv(\"iris.csv\")\n",
    "df.show()"
   ]
  },
  {
   "cell_type": "code",
   "execution_count": 19,
   "id": "9aa0d30e-5895-4370-8745-86979c88c206",
   "metadata": {},
   "outputs": [
    {
     "name": "stdout",
     "output_type": "stream",
     "text": [
      "root\n",
      " |-- sepal.length: string (nullable = true)\n",
      " |-- sepal.width: string (nullable = true)\n",
      " |-- petal.length: string (nullable = true)\n",
      " |-- petal.width: string (nullable = true)\n",
      " |-- variety: string (nullable = true)\n",
      "\n"
     ]
    }
   ],
   "source": [
    "df.printSchema()"
   ]
  },
  {
   "cell_type": "code",
   "execution_count": 34,
   "id": "5059932c-0825-4f94-baae-149a9a6340db",
   "metadata": {},
   "outputs": [
    {
     "name": "stdout",
     "output_type": "stream",
     "text": [
      "+-----------------+\n",
      "|avg(sepal.length)|\n",
      "+-----------------+\n",
      "|5.843333333333335|\n",
      "+-----------------+\n",
      "\n"
     ]
    }
   ],
   "source": [
    "df.select(\"`sepal.length`\").agg({\"`sepal.length`\": \"avg\"}).show()\n"
   ]
  },
  {
   "cell_type": "code",
   "execution_count": 35,
   "id": "9f606ebc-9082-46f7-8e7f-8c146f7f342b",
   "metadata": {},
   "outputs": [
    {
     "name": "stdout",
     "output_type": "stream",
     "text": [
      "+----------------------+\n",
      "|variance(sepal.length)|\n",
      "+----------------------+\n",
      "|    0.6856935123042518|\n",
      "+----------------------+\n",
      "\n"
     ]
    }
   ],
   "source": [
    "df.select(\"`sepal.length`\").agg({\"`sepal.length`\": \"variance\"}).show()\n"
   ]
  },
  {
   "cell_type": "code",
   "execution_count": null,
   "id": "d0ab6c8a-c8d7-4f3e-9940-89d33184ac3b",
   "metadata": {},
   "outputs": [],
   "source": []
  }
 ],
 "metadata": {
  "kernelspec": {
   "display_name": "Python 3 (ipykernel)",
   "language": "python",
   "name": "python3"
  },
  "language_info": {
   "codemirror_mode": {
    "name": "ipython",
    "version": 3
   },
   "file_extension": ".py",
   "mimetype": "text/x-python",
   "name": "python",
   "nbconvert_exporter": "python",
   "pygments_lexer": "ipython3",
   "version": "3.9.7"
  }
 },
 "nbformat": 4,
 "nbformat_minor": 5
}
