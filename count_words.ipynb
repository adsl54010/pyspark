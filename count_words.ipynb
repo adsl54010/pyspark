{
 "cells": [
  {
   "cell_type": "code",
   "execution_count": 1,
   "id": "8c803ed7-9925-4853-bd87-8f7fd5f8c913",
   "metadata": {
    "collapsed": true,
    "jupyter": {
     "outputs_hidden": true
    },
    "tags": []
   },
   "outputs": [
    {
     "name": "stdout",
     "output_type": "stream",
     "text": [
      "you: 19\n",
      "for: 11\n",
      "look: 10\n",
      "they: 9\n",
      "and: 9\n",
      "i: 9\n",
      "how: 8\n",
      "shine: 8\n",
      "all: 6\n",
      "a: 6\n",
      "do: 5\n",
      "yellow: 5\n",
      "the: 4\n",
      "your: 4\n",
      "yeah,: 3\n",
      "it: 3\n",
      "was: 3\n",
      "so: 3\n",
      "turn: 3\n",
      "oh,: 3\n",
      "what: 3\n",
      "thing: 3\n",
      "to: 3\n",
      "know: 3\n",
      "at: 2\n",
      "stars: 2\n",
      "were: 2\n",
      "things: 2\n",
      "skin,: 2\n",
      "oh: 2\n",
      "skin: 2\n",
      "bones: 2\n",
      "(ooh): 2\n",
      "into: 2\n",
      "something: 2\n",
      "beautiful: 2\n",
      "(aah): 2\n",
      "love: 2\n",
      "across: 2\n",
      "drew: 2\n",
      "line: 2\n",
      "you,: 2\n",
      "i'd: 2\n",
      "bleed: 2\n",
      "myself: 2\n",
      "dry: 2\n",
      "everything: 1\n",
      "came: 1\n",
      "along: 1\n",
      "wrote: 1\n",
      "song: 1\n",
      "called: 1\n",
      "then: 1\n",
      "took: 1\n",
      "my: 1\n",
      "have: 1\n",
      "done: 1\n",
      "know,: 1\n",
      "swam: 1\n",
      "jumped: 1\n",
      "'cause: 1\n",
      "it's: 1\n",
      "true: 1\n",
      "for-: 1\n",
      "that: 1\n"
     ]
    }
   ],
   "source": [
    "from pyspark import SparkContext\n",
    "\n",
    "sc = SparkContext(\"local\", \"First App\")\n",
    "\n",
    "# 載入檔案\n",
    "text_file = sc.textFile(\"yellow.txt\")\n",
    "\n",
    "# word count\n",
    "counts = text_file.flatMap( lambda line: line.lower().split(\" \") ) \\\n",
    "            .map( lambda word: (word, 1) ) \\\n",
    "            .reduceByKey( lambda a, b: a + b ) \\\n",
    "            .sortBy( lambda x: x[1], False )\n",
    "output = counts.collect()\n",
    "\n",
    "# 印出字與數量\n",
    "for (word, count) in output:\n",
    "    print( \"%s: %i\" % (word, count) )\n",
    "    \n",
    "# Stopping Spark Context\n",
    "sc.stop()"
   ]
  },
  {
   "cell_type": "code",
   "execution_count": null,
   "id": "74a76951-f007-4ab9-bd74-910411fef99f",
   "metadata": {},
   "outputs": [],
   "source": []
  }
 ],
 "metadata": {
  "kernelspec": {
   "display_name": "Python 3 (ipykernel)",
   "language": "python",
   "name": "python3"
  },
  "language_info": {
   "codemirror_mode": {
    "name": "ipython",
    "version": 3
   },
   "file_extension": ".py",
   "mimetype": "text/x-python",
   "name": "python",
   "nbconvert_exporter": "python",
   "pygments_lexer": "ipython3",
   "version": "3.9.7"
  }
 },
 "nbformat": 4,
 "nbformat_minor": 5
}
